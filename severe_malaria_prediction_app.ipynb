{
 "cells": [
  {
   "cell_type": "code",
   "execution_count": 17,
   "id": "fbe4cc08-bfe4-4615-a33c-8788c232cca4",
   "metadata": {},
   "outputs": [
    {
     "name": "stdout",
     "output_type": "stream",
     "text": [
      "C:\\Users\\idowu\\st_env\\Scripts\\python.exe\n"
     ]
    }
   ],
   "source": [
    "import sys\n",
    "print(sys.executable)"
   ]
  },
  {
   "cell_type": "code",
   "execution_count": 18,
   "id": "1c224c7f-1f97-4f0d-b057-53d59078fb1d",
   "metadata": {},
   "outputs": [
    {
     "name": "stdout",
     "output_type": "stream",
     "text": [
      "3.11.2 (tags/v3.11.2:878ead1, Feb  7 2023, 16:38:35) [MSC v.1934 64 bit (AMD64)]\n"
     ]
    }
   ],
   "source": [
    "import sys\n",
    "print(sys.version)"
   ]
  },
  {
   "cell_type": "code",
   "execution_count": 19,
   "id": "ee02f58e-14c3-4be5-a4f7-fab6c1e8ff91",
   "metadata": {},
   "outputs": [
    {
     "name": "stdout",
     "output_type": "stream",
     "text": [
      "1.25.2 2.3.2 1.7.1 3.0.4 0.14.0 1.5.1\n"
     ]
    }
   ],
   "source": [
    "import numpy as np\n",
    "import pandas as pd\n",
    "import sklearn\n",
    "import xgboost\n",
    "import imblearn\n",
    "import joblib\n",
    "\n",
    "print(np.__version__, pd.__version__, sklearn.__version__, xgboost.__version__, imblearn.__version__ , joblib.__version__)"
   ]
  },
  {
   "cell_type": "code",
   "execution_count": 20,
   "id": "f55655ae-5035-41da-8988-f584224caa93",
   "metadata": {},
   "outputs": [],
   "source": [
    "\n",
    "import warnings\n",
    "warnings.filterwarnings('ignore')\n"
   ]
  },
  {
   "cell_type": "code",
   "execution_count": 21,
   "id": "53c0e29a-0f9b-4734-8389-2977c4689858",
   "metadata": {},
   "outputs": [],
   "source": [
    "# Load dataset\n",
    "df = pd.read_csv(\"mmc1.csv\")"
   ]
  },
  {
   "cell_type": "code",
   "execution_count": 22,
   "id": "b2e1cc62-6ecd-4c80-ab73-f661b2317b2e",
   "metadata": {},
   "outputs": [],
   "source": [
    "# Rename severe_maleria to severe_malaria\n",
    "df = df.rename(columns={\"severe_maleria\": \"severe_malaria\"})"
   ]
  },
  {
   "cell_type": "code",
   "execution_count": 23,
   "id": "5e07971e-ad3c-477c-ab13-d7b22dd05ce5",
   "metadata": {},
   "outputs": [],
   "source": [
    "# Save the dataset back\n",
    "df.to_csv(\"mmc1.csv\", index=False)"
   ]
  },
  {
   "cell_type": "code",
   "execution_count": 24,
   "id": "17a793e9-a45c-4934-8ca1-16a42da73c55",
   "metadata": {},
   "outputs": [
    {
     "data": {
      "text/html": [
       "<div>\n",
       "<style scoped>\n",
       "    .dataframe tbody tr th:only-of-type {\n",
       "        vertical-align: middle;\n",
       "    }\n",
       "\n",
       "    .dataframe tbody tr th {\n",
       "        vertical-align: top;\n",
       "    }\n",
       "\n",
       "    .dataframe thead th {\n",
       "        text-align: right;\n",
       "    }\n",
       "</style>\n",
       "<table border=\"1\" class=\"dataframe\">\n",
       "  <thead>\n",
       "    <tr style=\"text-align: right;\">\n",
       "      <th></th>\n",
       "      <th>age</th>\n",
       "      <th>age_group</th>\n",
       "      <th>sex</th>\n",
       "      <th>fever</th>\n",
       "      <th>cold</th>\n",
       "      <th>rigor</th>\n",
       "      <th>fatigue</th>\n",
       "      <th>headace</th>\n",
       "      <th>bitter_tongue</th>\n",
       "      <th>vomitting</th>\n",
       "      <th>diarrhea</th>\n",
       "      <th>Convulsion</th>\n",
       "      <th>Anemia</th>\n",
       "      <th>jundice</th>\n",
       "      <th>cocacola_urine</th>\n",
       "      <th>hypoglycemia</th>\n",
       "      <th>prostraction</th>\n",
       "      <th>hyperpyrexia</th>\n",
       "      <th>severe_malaria</th>\n",
       "    </tr>\n",
       "  </thead>\n",
       "  <tbody>\n",
       "    <tr>\n",
       "      <th>0</th>\n",
       "      <td>3</td>\n",
       "      <td>1-10</td>\n",
       "      <td>1</td>\n",
       "      <td>1</td>\n",
       "      <td>1</td>\n",
       "      <td>0</td>\n",
       "      <td>1</td>\n",
       "      <td>1</td>\n",
       "      <td>1</td>\n",
       "      <td>0</td>\n",
       "      <td>1</td>\n",
       "      <td>1</td>\n",
       "      <td>0</td>\n",
       "      <td>1</td>\n",
       "      <td>1</td>\n",
       "      <td>1</td>\n",
       "      <td>0</td>\n",
       "      <td>0</td>\n",
       "      <td>0</td>\n",
       "    </tr>\n",
       "    <tr>\n",
       "      <th>1</th>\n",
       "      <td>3</td>\n",
       "      <td>1-10</td>\n",
       "      <td>0</td>\n",
       "      <td>1</td>\n",
       "      <td>1</td>\n",
       "      <td>1</td>\n",
       "      <td>1</td>\n",
       "      <td>1</td>\n",
       "      <td>1</td>\n",
       "      <td>0</td>\n",
       "      <td>1</td>\n",
       "      <td>0</td>\n",
       "      <td>0</td>\n",
       "      <td>0</td>\n",
       "      <td>1</td>\n",
       "      <td>1</td>\n",
       "      <td>0</td>\n",
       "      <td>0</td>\n",
       "      <td>0</td>\n",
       "    </tr>\n",
       "    <tr>\n",
       "      <th>2</th>\n",
       "      <td>3</td>\n",
       "      <td>1-10</td>\n",
       "      <td>0</td>\n",
       "      <td>1</td>\n",
       "      <td>1</td>\n",
       "      <td>1</td>\n",
       "      <td>1</td>\n",
       "      <td>1</td>\n",
       "      <td>0</td>\n",
       "      <td>0</td>\n",
       "      <td>1</td>\n",
       "      <td>1</td>\n",
       "      <td>0</td>\n",
       "      <td>0</td>\n",
       "      <td>1</td>\n",
       "      <td>1</td>\n",
       "      <td>0</td>\n",
       "      <td>0</td>\n",
       "      <td>1</td>\n",
       "    </tr>\n",
       "    <tr>\n",
       "      <th>3</th>\n",
       "      <td>4</td>\n",
       "      <td>1-10</td>\n",
       "      <td>1</td>\n",
       "      <td>1</td>\n",
       "      <td>1</td>\n",
       "      <td>0</td>\n",
       "      <td>1</td>\n",
       "      <td>0</td>\n",
       "      <td>0</td>\n",
       "      <td>0</td>\n",
       "      <td>0</td>\n",
       "      <td>0</td>\n",
       "      <td>0</td>\n",
       "      <td>1</td>\n",
       "      <td>0</td>\n",
       "      <td>1</td>\n",
       "      <td>0</td>\n",
       "      <td>1</td>\n",
       "      <td>0</td>\n",
       "    </tr>\n",
       "    <tr>\n",
       "      <th>4</th>\n",
       "      <td>4</td>\n",
       "      <td>1-10</td>\n",
       "      <td>0</td>\n",
       "      <td>1</td>\n",
       "      <td>1</td>\n",
       "      <td>1</td>\n",
       "      <td>0</td>\n",
       "      <td>1</td>\n",
       "      <td>0</td>\n",
       "      <td>0</td>\n",
       "      <td>0</td>\n",
       "      <td>1</td>\n",
       "      <td>0</td>\n",
       "      <td>1</td>\n",
       "      <td>1</td>\n",
       "      <td>1</td>\n",
       "      <td>0</td>\n",
       "      <td>0</td>\n",
       "      <td>0</td>\n",
       "    </tr>\n",
       "  </tbody>\n",
       "</table>\n",
       "</div>"
      ],
      "text/plain": [
       "   age age_group  sex  fever  cold  rigor  fatigue  headace  bitter_tongue  \\\n",
       "0    3      1-10    1      1     1      0        1        1              1   \n",
       "1    3      1-10    0      1     1      1        1        1              1   \n",
       "2    3      1-10    0      1     1      1        1        1              0   \n",
       "3    4      1-10    1      1     1      0        1        0              0   \n",
       "4    4      1-10    0      1     1      1        0        1              0   \n",
       "\n",
       "   vomitting  diarrhea  Convulsion  Anemia  jundice  cocacola_urine  \\\n",
       "0          0         1           1       0        1               1   \n",
       "1          0         1           0       0        0               1   \n",
       "2          0         1           1       0        0               1   \n",
       "3          0         0           0       0        1               0   \n",
       "4          0         0           1       0        1               1   \n",
       "\n",
       "   hypoglycemia  prostraction  hyperpyrexia  severe_malaria  \n",
       "0             1             0             0               0  \n",
       "1             1             0             0               0  \n",
       "2             1             0             0               1  \n",
       "3             1             0             1               0  \n",
       "4             1             0             0               0  "
      ]
     },
     "execution_count": 24,
     "metadata": {},
     "output_type": "execute_result"
    }
   ],
   "source": [
    "#Check column head\n",
    "df.head()"
   ]
  },
  {
   "cell_type": "code",
   "execution_count": 25,
   "id": "db5f6387-9d91-4183-a073-b7249e8867ea",
   "metadata": {},
   "outputs": [
    {
     "name": "stdout",
     "output_type": "stream",
     "text": [
      " Dataset shape: (337, 19)\n",
      " Number of patients: 337\n",
      " Number of features: 19\n"
     ]
    }
   ],
   "source": [
    "#shape of data \n",
    "#number of rows\n",
    "#number of columns\n",
    "\n",
    "print(f\" Dataset shape: {df.shape}\")\n",
    "print(f\" Number of patients: {df.shape[0]}\")\n",
    "print(f\" Number of features: {df.shape[1]}\")"
   ]
  },
  {
   "cell_type": "code",
   "execution_count": 26,
   "id": "d39c82b7-91bc-49f9-b0e5-11264e0748c1",
   "metadata": {},
   "outputs": [
    {
     "data": {
      "text/plain": [
       "age               0\n",
       "age_group         0\n",
       "sex               0\n",
       "fever             0\n",
       "cold              0\n",
       "rigor             0\n",
       "fatigue           0\n",
       "headace           0\n",
       "bitter_tongue     0\n",
       "vomitting         0\n",
       "diarrhea          0\n",
       "Convulsion        0\n",
       "Anemia            0\n",
       "jundice           0\n",
       "cocacola_urine    0\n",
       "hypoglycemia      0\n",
       "prostraction      0\n",
       "hyperpyrexia      0\n",
       "severe_malaria    0\n",
       "dtype: int64"
      ]
     },
     "execution_count": 26,
     "metadata": {},
     "output_type": "execute_result"
    }
   ],
   "source": [
    "# Checking for missing values\n",
    "df.isnull().sum()"
   ]
  },
  {
   "cell_type": "code",
   "execution_count": 27,
   "id": "d95f5d80-6232-4d6c-b699-26d8300ec499",
   "metadata": {},
   "outputs": [
    {
     "data": {
      "text/html": [
       "<div>\n",
       "<style scoped>\n",
       "    .dataframe tbody tr th:only-of-type {\n",
       "        vertical-align: middle;\n",
       "    }\n",
       "\n",
       "    .dataframe tbody tr th {\n",
       "        vertical-align: top;\n",
       "    }\n",
       "\n",
       "    .dataframe thead th {\n",
       "        text-align: right;\n",
       "    }\n",
       "</style>\n",
       "<table border=\"1\" class=\"dataframe\">\n",
       "  <thead>\n",
       "    <tr style=\"text-align: right;\">\n",
       "      <th></th>\n",
       "      <th>age</th>\n",
       "      <th>sex</th>\n",
       "      <th>fever</th>\n",
       "      <th>cold</th>\n",
       "      <th>rigor</th>\n",
       "      <th>fatigue</th>\n",
       "      <th>headace</th>\n",
       "      <th>bitter_tongue</th>\n",
       "      <th>vomitting</th>\n",
       "      <th>diarrhea</th>\n",
       "      <th>Convulsion</th>\n",
       "      <th>Anemia</th>\n",
       "      <th>jundice</th>\n",
       "      <th>cocacola_urine</th>\n",
       "      <th>hypoglycemia</th>\n",
       "      <th>prostraction</th>\n",
       "      <th>hyperpyrexia</th>\n",
       "      <th>severe_malaria</th>\n",
       "    </tr>\n",
       "  </thead>\n",
       "  <tbody>\n",
       "    <tr>\n",
       "      <th>count</th>\n",
       "      <td>337.000000</td>\n",
       "      <td>337.000000</td>\n",
       "      <td>337.000000</td>\n",
       "      <td>337.000000</td>\n",
       "      <td>337.000000</td>\n",
       "      <td>337.000000</td>\n",
       "      <td>337.000000</td>\n",
       "      <td>337.000000</td>\n",
       "      <td>337.000000</td>\n",
       "      <td>337.000000</td>\n",
       "      <td>337.000000</td>\n",
       "      <td>337.000000</td>\n",
       "      <td>337.000000</td>\n",
       "      <td>337.000000</td>\n",
       "      <td>337.000000</td>\n",
       "      <td>337.000000</td>\n",
       "      <td>337.000000</td>\n",
       "      <td>337.000000</td>\n",
       "    </tr>\n",
       "    <tr>\n",
       "      <th>mean</th>\n",
       "      <td>30.347181</td>\n",
       "      <td>0.534125</td>\n",
       "      <td>0.750742</td>\n",
       "      <td>0.566766</td>\n",
       "      <td>0.341246</td>\n",
       "      <td>0.483680</td>\n",
       "      <td>0.700297</td>\n",
       "      <td>0.403561</td>\n",
       "      <td>0.074184</td>\n",
       "      <td>0.338279</td>\n",
       "      <td>0.344214</td>\n",
       "      <td>0.350148</td>\n",
       "      <td>0.658754</td>\n",
       "      <td>0.540059</td>\n",
       "      <td>0.857567</td>\n",
       "      <td>0.219585</td>\n",
       "      <td>0.139466</td>\n",
       "      <td>0.344214</td>\n",
       "    </tr>\n",
       "    <tr>\n",
       "      <th>std</th>\n",
       "      <td>14.720853</td>\n",
       "      <td>0.499576</td>\n",
       "      <td>0.433227</td>\n",
       "      <td>0.496259</td>\n",
       "      <td>0.474833</td>\n",
       "      <td>0.500477</td>\n",
       "      <td>0.458809</td>\n",
       "      <td>0.491341</td>\n",
       "      <td>0.262460</td>\n",
       "      <td>0.473828</td>\n",
       "      <td>0.475818</td>\n",
       "      <td>0.477726</td>\n",
       "      <td>0.474833</td>\n",
       "      <td>0.499134</td>\n",
       "      <td>0.350014</td>\n",
       "      <td>0.414581</td>\n",
       "      <td>0.346947</td>\n",
       "      <td>0.475818</td>\n",
       "    </tr>\n",
       "    <tr>\n",
       "      <th>min</th>\n",
       "      <td>3.000000</td>\n",
       "      <td>0.000000</td>\n",
       "      <td>0.000000</td>\n",
       "      <td>0.000000</td>\n",
       "      <td>0.000000</td>\n",
       "      <td>0.000000</td>\n",
       "      <td>0.000000</td>\n",
       "      <td>0.000000</td>\n",
       "      <td>0.000000</td>\n",
       "      <td>0.000000</td>\n",
       "      <td>0.000000</td>\n",
       "      <td>0.000000</td>\n",
       "      <td>0.000000</td>\n",
       "      <td>0.000000</td>\n",
       "      <td>0.000000</td>\n",
       "      <td>0.000000</td>\n",
       "      <td>0.000000</td>\n",
       "      <td>0.000000</td>\n",
       "    </tr>\n",
       "    <tr>\n",
       "      <th>25%</th>\n",
       "      <td>19.000000</td>\n",
       "      <td>0.000000</td>\n",
       "      <td>1.000000</td>\n",
       "      <td>0.000000</td>\n",
       "      <td>0.000000</td>\n",
       "      <td>0.000000</td>\n",
       "      <td>0.000000</td>\n",
       "      <td>0.000000</td>\n",
       "      <td>0.000000</td>\n",
       "      <td>0.000000</td>\n",
       "      <td>0.000000</td>\n",
       "      <td>0.000000</td>\n",
       "      <td>0.000000</td>\n",
       "      <td>0.000000</td>\n",
       "      <td>1.000000</td>\n",
       "      <td>0.000000</td>\n",
       "      <td>0.000000</td>\n",
       "      <td>0.000000</td>\n",
       "    </tr>\n",
       "    <tr>\n",
       "      <th>50%</th>\n",
       "      <td>29.000000</td>\n",
       "      <td>1.000000</td>\n",
       "      <td>1.000000</td>\n",
       "      <td>1.000000</td>\n",
       "      <td>0.000000</td>\n",
       "      <td>0.000000</td>\n",
       "      <td>1.000000</td>\n",
       "      <td>0.000000</td>\n",
       "      <td>0.000000</td>\n",
       "      <td>0.000000</td>\n",
       "      <td>0.000000</td>\n",
       "      <td>0.000000</td>\n",
       "      <td>1.000000</td>\n",
       "      <td>1.000000</td>\n",
       "      <td>1.000000</td>\n",
       "      <td>0.000000</td>\n",
       "      <td>0.000000</td>\n",
       "      <td>0.000000</td>\n",
       "    </tr>\n",
       "    <tr>\n",
       "      <th>75%</th>\n",
       "      <td>38.000000</td>\n",
       "      <td>1.000000</td>\n",
       "      <td>1.000000</td>\n",
       "      <td>1.000000</td>\n",
       "      <td>1.000000</td>\n",
       "      <td>1.000000</td>\n",
       "      <td>1.000000</td>\n",
       "      <td>1.000000</td>\n",
       "      <td>0.000000</td>\n",
       "      <td>1.000000</td>\n",
       "      <td>1.000000</td>\n",
       "      <td>1.000000</td>\n",
       "      <td>1.000000</td>\n",
       "      <td>1.000000</td>\n",
       "      <td>1.000000</td>\n",
       "      <td>0.000000</td>\n",
       "      <td>0.000000</td>\n",
       "      <td>1.000000</td>\n",
       "    </tr>\n",
       "    <tr>\n",
       "      <th>max</th>\n",
       "      <td>77.000000</td>\n",
       "      <td>1.000000</td>\n",
       "      <td>1.000000</td>\n",
       "      <td>1.000000</td>\n",
       "      <td>1.000000</td>\n",
       "      <td>1.000000</td>\n",
       "      <td>1.000000</td>\n",
       "      <td>1.000000</td>\n",
       "      <td>1.000000</td>\n",
       "      <td>1.000000</td>\n",
       "      <td>1.000000</td>\n",
       "      <td>1.000000</td>\n",
       "      <td>1.000000</td>\n",
       "      <td>1.000000</td>\n",
       "      <td>1.000000</td>\n",
       "      <td>1.000000</td>\n",
       "      <td>1.000000</td>\n",
       "      <td>1.000000</td>\n",
       "    </tr>\n",
       "  </tbody>\n",
       "</table>\n",
       "</div>"
      ],
      "text/plain": [
       "              age         sex       fever        cold       rigor     fatigue  \\\n",
       "count  337.000000  337.000000  337.000000  337.000000  337.000000  337.000000   \n",
       "mean    30.347181    0.534125    0.750742    0.566766    0.341246    0.483680   \n",
       "std     14.720853    0.499576    0.433227    0.496259    0.474833    0.500477   \n",
       "min      3.000000    0.000000    0.000000    0.000000    0.000000    0.000000   \n",
       "25%     19.000000    0.000000    1.000000    0.000000    0.000000    0.000000   \n",
       "50%     29.000000    1.000000    1.000000    1.000000    0.000000    0.000000   \n",
       "75%     38.000000    1.000000    1.000000    1.000000    1.000000    1.000000   \n",
       "max     77.000000    1.000000    1.000000    1.000000    1.000000    1.000000   \n",
       "\n",
       "          headace  bitter_tongue   vomitting    diarrhea  Convulsion  \\\n",
       "count  337.000000     337.000000  337.000000  337.000000  337.000000   \n",
       "mean     0.700297       0.403561    0.074184    0.338279    0.344214   \n",
       "std      0.458809       0.491341    0.262460    0.473828    0.475818   \n",
       "min      0.000000       0.000000    0.000000    0.000000    0.000000   \n",
       "25%      0.000000       0.000000    0.000000    0.000000    0.000000   \n",
       "50%      1.000000       0.000000    0.000000    0.000000    0.000000   \n",
       "75%      1.000000       1.000000    0.000000    1.000000    1.000000   \n",
       "max      1.000000       1.000000    1.000000    1.000000    1.000000   \n",
       "\n",
       "           Anemia     jundice  cocacola_urine  hypoglycemia  prostraction  \\\n",
       "count  337.000000  337.000000      337.000000    337.000000    337.000000   \n",
       "mean     0.350148    0.658754        0.540059      0.857567      0.219585   \n",
       "std      0.477726    0.474833        0.499134      0.350014      0.414581   \n",
       "min      0.000000    0.000000        0.000000      0.000000      0.000000   \n",
       "25%      0.000000    0.000000        0.000000      1.000000      0.000000   \n",
       "50%      0.000000    1.000000        1.000000      1.000000      0.000000   \n",
       "75%      1.000000    1.000000        1.000000      1.000000      0.000000   \n",
       "max      1.000000    1.000000        1.000000      1.000000      1.000000   \n",
       "\n",
       "       hyperpyrexia  severe_malaria  \n",
       "count    337.000000      337.000000  \n",
       "mean       0.139466        0.344214  \n",
       "std        0.346947        0.475818  \n",
       "min        0.000000        0.000000  \n",
       "25%        0.000000        0.000000  \n",
       "50%        0.000000        0.000000  \n",
       "75%        0.000000        1.000000  \n",
       "max        1.000000        1.000000  "
      ]
     },
     "execution_count": 27,
     "metadata": {},
     "output_type": "execute_result"
    }
   ],
   "source": [
    "# Summary statistics\n",
    "df.describe()"
   ]
  },
  {
   "cell_type": "code",
   "execution_count": 28,
   "id": "d971deba-bd5f-43db-9ee2-d3eaefb8ee7b",
   "metadata": {},
   "outputs": [
    {
     "name": "stdout",
     "output_type": "stream",
     "text": [
      "\n",
      "Target Variable: severe_malaria\n",
      "Feature List:\n",
      " Feature Variables:   1. age\n",
      " Feature Variables:   2. age_group\n",
      " Feature Variables:   3. sex\n",
      " Feature Variables:   4. fever\n",
      " Feature Variables:   5. cold\n",
      " Feature Variables:   6. rigor\n",
      " Feature Variables:   7. fatigue\n",
      " Feature Variables:   8. headace\n",
      " Feature Variables:   9. bitter_tongue\n",
      " Feature Variables:  10. vomitting\n",
      " Feature Variables:  11. diarrhea\n",
      " Feature Variables:  12. Convulsion\n",
      " Feature Variables:  13. Anemia\n",
      " Feature Variables:  14. jundice\n",
      " Feature Variables:  15. cocacola_urine\n",
      " Feature Variables:  16. hypoglycemia\n",
      " Feature Variables:  17. prostraction\n",
      " Feature Variables:  18. hyperpyrexia\n"
     ]
    }
   ],
   "source": [
    "#Dividing the columns into dependent variables and independent variable(Outcome = Severe_malaria)\n",
    "#dentify target variable and features\n",
    "\n",
    "target_col = 'severe_malaria'  # target variable\n",
    "feature_cols = [col for col in df.columns if col != target_col] # feature variables\n",
    "\n",
    "print(f\"\\nTarget Variable: {target_col}\")\n",
    "print(\"Feature List:\")\n",
    "for i, feat in enumerate(feature_cols, 1):\n",
    "    print(f\" Feature Variables:  {i:2d}. {feat}\")"
   ]
  },
  {
   "cell_type": "code",
   "execution_count": 30,
   "id": "b20b2107-f476-4034-bb14-cbcca6c088be",
   "metadata": {},
   "outputs": [],
   "source": [
    "import matplotlib.pyplot as plt\n",
    "\n",
    "# Count how many patients are in each class (0 = negative, 1 = positive)\n",
    "target_counts = df[target_col].value_counts()\n"
   ]
  },
  {
   "cell_type": "code",
   "execution_count": 31,
   "id": "08162fd6-abb9-478e-8e2e-0b604817a55f",
   "metadata": {},
   "outputs": [],
   "source": [
    "# Calculate the proportion (%) of each class\n",
    "target_props = df[target_col].value_counts(normalize=True)"
   ]
  },
  {
   "cell_type": "code",
   "execution_count": 32,
   "id": "4294604d-9406-4f1b-b936-6285871d4e83",
   "metadata": {},
   "outputs": [
    {
     "name": "stdout",
     "output_type": "stream",
     "text": [
      "Severe Malaria Distribution:\n",
      "  Negative (0): 221 patients (65.6%)\n",
      "  Positive (1): 116 patients (34.4%)\n"
     ]
    }
   ],
   "source": [
    "# Print distribution of severe malaria in terms of count and percentage\n",
    "print(\"Severe Malaria Distribution:\")\n",
    "print(f\"  Negative (0): {target_counts[0]} patients ({target_props[0]*100:.1f}%)\")\n",
    "print(f\"  Positive (1): {target_counts[1]} patients ({target_props[1]*100:.1f}%)\")"
   ]
  },
  {
   "cell_type": "code",
   "execution_count": 33,
   "id": "e1ab9adc-51e5-4527-b658-2e412573c550",
   "metadata": {},
   "outputs": [
    {
     "data": {
      "image/png": "[encoded data removed]",
      "text/plain": [
       "<Figure size 1200x500 with 2 Axes>"
      ]
     },
     "metadata": {},
     "output_type": "display_data"
    }
   ],
   "source": [
    "# Create visualization for target distribution\n",
    "fig, axes = plt.subplots(1, 2, figsize=(12, 5))\n",
    "\n",
    "# Bar chart\n",
    "bars = target_counts.plot(kind='bar', ax=axes[0], color=['lightblue', 'salmon'])\n",
    "axes[0].set_title('Severe Malaria Distribution')\n",
    "axes[0].set_xlabel('Severe Malaria Status')\n",
    "axes[0].set_ylabel('Number of Patients')\n",
    "axes[0].set_xticklabels(['Negative', 'Positive'], rotation=0)\n",
    "\n",
    "# Add labels on top of each bar\n",
    "for p in axes[0].patches:\n",
    "    axes[0].annotate(f\"{int(p.get_height())}\", \n",
    "                     (p.get_x() + p.get_width() / 2, p.get_height()), \n",
    "                     ha='center', va='bottom', fontsize=10, color='black')\n",
    "\n",
    "# Pie chart\n",
    "axes[1].pie(target_counts.values, labels=['Negative', 'Positive'], \n",
    "           autopct='%1.1f%%', colors=['lightblue', 'salmon'])\n",
    "axes[1].set_title('Severe Malaria Distribution (%)')\n",
    "\n",
    "plt.tight_layout()\n",
    "plt.show()\n"
   ]
  },
  {
   "cell_type": "code",
   "execution_count": 34,
   "id": "64513f45-283a-47c7-b71d-f2f014794588",
   "metadata": {},
   "outputs": [
    {
     "name": "stdout",
     "output_type": "stream",
     "text": [
      "Age Statistics:\n",
      "  Count: 337.00\n",
      "  Mean: 30.35\n",
      "  Std: 14.72\n",
      "  Min: 3.00\n",
      "  25%: 19.00\n",
      "  50%: 29.00\n",
      "  75%: 38.00\n",
      "  Max: 77.00\n"
     ]
    }
   ],
   "source": [
    "#  Age Analysis\n",
    "print(\"Age Statistics:\")\n",
    "# Get summary statistics for age\n",
    "age_stats = df['age'].describe()\n",
    "for stat, value in age_stats.items():\n",
    "    print(f\"  {stat.capitalize()}: {value:.2f}\")\n"
   ]
  },
  {
   "cell_type": "code",
   "execution_count": 35,
   "id": "e42277d6-29e7-4e2f-8cd6-adbf8db76a29",
   "metadata": {},
   "outputs": [
    {
     "name": "stdout",
     "output_type": "stream",
     "text": [
      "\n",
      "Age Distribution by Severe Malaria Status:\n",
      "                count       mean        std  min   25%   50%   75%   max\n",
      "severe_malaria                                                          \n",
      "0               221.0  29.687783  15.159074  3.0  18.0  29.0  38.0  77.0\n",
      "1               116.0  31.603448  13.824288  3.0  21.0  31.0  39.0  76.0\n"
     ]
    }
   ],
   "source": [
    "# Compare age distribution between patients with and without severe malaria\n",
    "print(\"\\nAge Distribution by Severe Malaria Status:\")\n",
    "age_by_target = df.groupby(target_col)['age'].describe()\n",
    "print(age_by_target)"
   ]
  },
  {
   "cell_type": "code",
   "execution_count": 36,
   "id": "3f9cfbf8-e152-4f20-8b2b-9d93cde1ff42",
   "metadata": {},
   "outputs": [
    {
     "name": "stdout",
     "output_type": "stream",
     "text": [
      "\n",
      "Gender Distribution:\n",
      "  Female (0): 157 patients (46.6%)\n",
      "  Male (1): 180 patients (53.4%)\n"
     ]
    }
   ],
   "source": [
    "#  Gender Analysis \n",
    "print(\"\\nGender Distribution:\")\n",
    "# Count how many females (0) and males (1)\n",
    "gender_counts = df['sex'].value_counts()\n",
    "print(f\"  Female (0): {gender_counts[0]} patients ({gender_counts[0]/len(df)*100:.1f}%)\")\n",
    "print(f\"  Male (1): {gender_counts[1]} patients ({gender_counts[1]/len(df)*100:.1f}%)\")\n"
   ]
  },
  {
   "cell_type": "code",
   "execution_count": 37,
   "id": "b6595250-8842-4734-8da2-4302264efe29",
   "metadata": {},
   "outputs": [
    {
     "name": "stdout",
     "output_type": "stream",
     "text": [
      "\n",
      "Gender Distribution:\n",
      "  Female (0): 157 patients (46.6%)\n",
      "  Male (1): 180 patients (53.4%)\n"
     ]
    }
   ],
   "source": [
    "# --- Gender Analysis ---\n",
    "print(\"\\nGender Distribution:\")\n",
    "# Count how many females (0) and males (1)\n",
    "gender_counts = df['sex'].value_counts()\n",
    "print(f\"  Female (0): {gender_counts[0]} patients ({gender_counts[0]/len(df)*100:.1f}%)\")\n",
    "print(f\"  Male (1): {gender_counts[1]} patients ({gender_counts[1]/len(df)*100:.1f}%)\")\n"
   ]
  },
  {
   "cell_type": "code",
   "execution_count": 38,
   "id": "1ee3ed1c-a7e6-4e11-9c6b-41cdf30cf73c",
   "metadata": {},
   "outputs": [
    {
     "data": {
      "image/png": "[encoded data removed]",
      "text/plain": [
       "<Figure size 1500x1000 with 4 Axes>"
      ]
     },
     "metadata": {},
     "output_type": "display_data"
    }
   ],
   "source": [
    "# Create a figure with 4 plots arranged in a 2x2 grid \n",
    "fig, axes = plt.subplots(2, 2, figsize=(15, 10))\n",
    "\n",
    "# 1. Age distribution (histogram)\n",
    "axes[0,0].hist(df['age'], bins=15, alpha=0.7, color='skyblue', edgecolor='black')\n",
    "axes[0,0].set_title('Age Distribution')\n",
    "axes[0,0].set_xlabel('Age')\n",
    "axes[0,0].set_ylabel('Frequency')\n",
    "\n",
    "# 2. Age distribution by malaria status (boxplot)\n",
    "df.boxplot(column='age', by=target_col, ax=axes[0,1])\n",
    "axes[0,1].set_title('Age Distribution by Severe Malaria Status')\n",
    "axes[0,1].set_xlabel('Severe Malaria Status')\n",
    "axes[0,1].set_ylabel('Age')\n",
    "\n",
    "# 3. Gender distribution (bar chart)\n",
    "bars1 = gender_counts.plot(kind='bar', ax=axes[1,0], color=['pink', 'lightblue'])\n",
    "axes[1,0].set_title('Gender Distribution')\n",
    "axes[1,0].set_xlabel('Gender')\n",
    "axes[1,0].set_ylabel('Count')\n",
    "axes[1,0].set_xticklabels(['Female', 'Male'], rotation=0)\n",
    "\n",
    "# Add labels on bars (gender counts)\n",
    "for p in axes[1,0].patches:\n",
    "    axes[1,0].annotate(f\"{int(p.get_height())}\",\n",
    "                       (p.get_x() + p.get_width() / 2, p.get_height()),\n",
    "                       ha='center', va='bottom', fontsize=10)\n",
    "\n",
    "# 4. Gender vs malaria status  (simple comparison table)\n",
    "gender_target_ct = pd.crosstab(df['sex'], df[target_col])\n",
    "bars2 = gender_target_ct.plot(kind='bar', ax=axes[1,1], color=['lightblue', 'salmon'])\n",
    "axes[1,1].set_title('Gender Distribution by Severe Malaria Status')\n",
    "axes[1,1].set_xlabel('Gender')\n",
    "axes[1,1].set_ylabel('Count')\n",
    "axes[1,1].set_xticklabels(['Female', 'Male'], rotation=0)\n",
    "axes[1,1].legend(['Negative', 'Positive'])\n",
    "\n",
    "# Add labels on bars (crosstab counts)\n",
    "for p in axes[1,1].patches:\n",
    "    axes[1,1].annotate(f\"{int(p.get_height())}\",\n",
    "                       (p.get_x() + p.get_width() / 2, p.get_height()),\n",
    "                       ha='center', va='bottom', fontsize=10)\n",
    "\n",
    "plt.tight_layout()\n",
    "plt.show()\n"
   ]
  },
  {
   "cell_type": "code",
   "execution_count": 39,
   "id": "eb04e5d3-d164-4bab-9307-c13da7aedb2a",
   "metadata": {},
   "outputs": [
    {
     "name": "stdout",
     "output_type": "stream",
     "text": [
      "Number of symptoms analyzed: 15\n"
     ]
    }
   ],
   "source": [
    "# Get symptom columns (excluding age, sex, and target)\n",
    "symptom_cols = [col for col in feature_cols if col not in ['age_group', 'sex', 'age']]\n",
    "print(f\"Number of symptoms analyzed: {len(symptom_cols)}\")\n",
    "\n",
    "# Convert symptom columns to numeric \n",
    "for col in symptom_cols:\n",
    "    if df[col].dtype == 'object':  \n",
    "        df[col] = df[col].replace({'Yes': 1, 'No': 0, 'Present': 1, 'Absent': 0})\n",
    "    df[col] = pd.to_numeric(df[col], errors='coerce').fillna(0).astype(int)\n",
    "\n"
   ]
  },
  {
   "cell_type": "code",
   "execution_count": 40,
   "id": "42f9d9a4-7bd8-4450-97a8-f23a9d893a3e",
   "metadata": {},
   "outputs": [
    {
     "name": "stdout",
     "output_type": "stream",
     "text": [
      "SYMPTOM FREQUENCY ANALYSIS\n",
      "------------------------------\n",
      "Symptom Frequency (Most to Least Common):\n",
      " 1. hypoglycemia   : 289 patients ( 85.8%)\n",
      " 2. fever          : 253 patients ( 75.1%)\n",
      " 3. headace        : 236 patients ( 70.0%)\n",
      " 4. jundice        : 222 patients ( 65.9%)\n",
      " 5. cold           : 191 patients ( 56.7%)\n",
      " 6. cocacola_urine : 182 patients ( 54.0%)\n",
      " 7. fatigue        : 163 patients ( 48.4%)\n",
      " 8. bitter_tongue  : 136 patients ( 40.4%)\n",
      " 9. Anemia         : 118 patients ( 35.0%)\n",
      "10. Convulsion     : 116 patients ( 34.4%)\n",
      "11. rigor          : 115 patients ( 34.1%)\n",
      "12. diarrhea       : 114 patients ( 33.8%)\n",
      "13. prostraction   :  74 patients ( 22.0%)\n",
      "14. hyperpyrexia   :  47 patients ( 13.9%)\n",
      "15. vomitting      :  25 patients (  7.4%)\n"
     ]
    }
   ],
   "source": [
    "# Calculate symptom frequencies\n",
    "print(\"SYMPTOM FREQUENCY ANALYSIS\")\n",
    "print(\"-\" * 30)\n",
    "symptom_freq = df[symptom_cols].sum().sort_values(ascending=False)\n",
    "symptom_perc = (symptom_freq / len(df) * 100).round(2)\n",
    "\n",
    "print(\"Symptom Frequency (Most to Least Common):\")\n",
    "for i, (symptom, freq) in enumerate(symptom_freq.items(), 1):\n",
    "    print(f\"{i:2d}. {symptom:15s}: {freq:3d} patients ({symptom_perc[symptom]:5.1f}%)\")"
   ]
  },
  {
   "cell_type": "code",
   "execution_count": 41,
   "id": "ca1cc0e0-9f4d-4365-9d59-ad53e787f593",
   "metadata": {},
   "outputs": [
    {
     "data": {
      "image/png": "[encoded data removed]",
      "text/plain": [
       "<Figure size 1400x800 with 1 Axes>"
      ]
     },
     "metadata": {},
     "output_type": "display_data"
    },
    {
     "name": "stdout",
     "output_type": "stream",
     "text": [
      "SYMPTOM CORRELATION WITH TARGET\n"
     ]
    }
   ],
   "source": [
    "# Visualize symptom frequencies\n",
    "plt.figure(figsize=(14, 8))\n",
    "bars = symptom_perc.plot(kind='bar', color='steelblue', alpha=0.8)\n",
    "\n",
    "plt.title('Symptom Frequency Distribution', fontsize=16, fontweight='bold')\n",
    "plt.xlabel('Symptoms', fontsize=12)\n",
    "plt.ylabel('Percentage of Patients (%)', fontsize=12)\n",
    "plt.xticks(rotation=45, ha='right')\n",
    "plt.grid(axis='y', alpha=0.3)\n",
    "\n",
    "# Add labels on top of each bar\n",
    "for p in bars.patches:\n",
    "    plt.annotate(f\"{p.get_height():.1f}%\",  \n",
    "                 (p.get_x() + p.get_width() / 2, p.get_height()),\n",
    "                 ha='center', va='bottom', fontsize=10, color='black')\n",
    "\n",
    "plt.tight_layout()\n",
    "plt.show()\n",
    "\n",
    "print(\"SYMPTOM CORRELATION WITH TARGET\")\n"
   ]
  },
  {
   "cell_type": "code",
   "execution_count": 42,
   "id": "9bdd2764-615b-4162-aff2-b41ef05de1f2",
   "metadata": {},
   "outputs": [
    {
     "name": "stdout",
     "output_type": "stream",
     "text": [
      "Symptom Correlation with Severe Malaria (Highest to Lowest):\n",
      " 1. headace        :  0.147\n",
      " 2. hypoglycemia   :  0.117\n",
      " 3. diarrhea       :  0.116\n",
      " 4. cold           :  0.066\n",
      " 5. cocacola_urine :  0.055\n",
      " 6. fatigue        :  0.049\n",
      " 7. rigor          :  0.032\n",
      " 8. fever          :  0.013\n",
      " 9. jundice        :  0.008\n",
      "10. bitter_tongue  : -0.010\n",
      "11. vomitting      : -0.014\n",
      "12. Anemia         : -0.021\n",
      "13. hyperpyrexia   : -0.021\n",
      "14. Convulsion     : -0.052\n",
      "15. prostraction   : -0.113\n"
     ]
    }
   ],
   "source": [
    "# Calculate correlation between symptoms and target\n",
    "symptom_target_corr = df[symptom_cols + [target_col]].corr()[target_col].drop(target_col)\n",
    "symptom_target_corr = symptom_target_corr.sort_values(ascending=False)\n",
    "\n",
    "print(\"Symptom Correlation with Severe Malaria (Highest to Lowest):\")\n",
    "for i, (symptom, corr) in enumerate(symptom_target_corr.items(), 1):\n",
    "    print(f\"{i:2d}. {symptom:15s}: {corr:6.3f}\")"
   ]
  },
  {
   "cell_type": "code",
   "execution_count": 43,
   "id": "368c903c-9fe0-430a-b46b-d99ed8e79bc4",
   "metadata": {
    "scrolled": true
   },
   "outputs": [
    {
     "data": {
      "image/png": "[encoded data removed]",
      "text/plain": [
       "<Figure size 1200x800 with 1 Axes>"
      ]
     },
     "metadata": {},
     "output_type": "display_data"
    }
   ],
   "source": [
    "# Visualize correlations\n",
    "plt.figure(figsize=(12, 8))\n",
    "\n",
    "# Color bars: red = positive correlation, blue = negative correlation\n",
    "colors = ['red' if x > 0 else 'blue' for x in symptom_target_corr.values]\n",
    "\n",
    "bars = symptom_target_corr.plot(kind='barh', color=colors, alpha=0.7)\n",
    "\n",
    "plt.title('Symptom Correlation with Severe Malaria', fontsize=16, fontweight='bold')\n",
    "plt.xlabel('Correlation Coefficient', fontsize=12)\n",
    "plt.ylabel('Symptoms', fontsize=12)\n",
    "plt.axvline(x=0, color='black', linestyle='-', linewidth=0.8) \n",
    "plt.grid(axis='x', alpha=0.3)\n",
    "\n",
    "# Add labels at the end of each bar\n",
    "for p in bars.patches:\n",
    "    plt.annotate(f\"{p.get_width():.2f}\",  # to 2 dp\n",
    "                 (p.get_width(), p.get_y() + p.get_height() / 2),\n",
    "                 ha='left', va='center', fontsize=10, color='black')\n",
    "\n",
    "plt.tight_layout()\n",
    "plt.show()\n"
   ]
  },
  {
   "cell_type": "code",
   "execution_count": 44,
   "id": "e263ad80-b211-451e-bb53-224fa8420833",
   "metadata": {},
   "outputs": [],
   "source": [
    "# Next -- We will train different machine learning models \n",
    "# (Logistic Regression, Decision Tree, Random Forest) \n",
    "# to help predict if a patient has severe malaria. \n",
    "# Since the dataset has more \"negative\" cases than \"positive\" ones, \n",
    "# we use a method called SMOTE to balance it. \n",
    "# We also test the models with cross-validation to check how reliable they are."
   ]
  },
  {
   "cell_type": "code",
   "execution_count": 45,
   "id": "df1e2e21-f7c7-439a-8b1d-d8db859b14c2",
   "metadata": {},
   "outputs": [],
   "source": [
    "from sklearn.model_selection import train_test_split, cross_val_score, GridSearchCV, StratifiedKFold\n",
    "from sklearn.linear_model import LogisticRegression\n",
    "from sklearn.tree import DecisionTreeClassifier, plot_tree\n",
    "from sklearn.ensemble import RandomForestClassifier, GradientBoostingClassifier\n",
    "from sklearn.metrics import (classification_report, confusion_matrix, roc_auc_score, \n",
    "                           roc_curve, precision_recall_curve, accuracy_score,\n",
    "                           precision_score, recall_score, f1_score)\n",
    "from sklearn.preprocessing import StandardScaler\n",
    "from sklearn.feature_selection import SelectKBest, f_classif\n"
   ]
  },
  {
   "cell_type": "code",
   "execution_count": 46,
   "id": "88db163f-b879-4b41-b45b-45ca45993365",
   "metadata": {},
   "outputs": [],
   "source": [
    "# Set random state for reproducibility\n",
    "RANDOM_STATE = 42\n",
    "np.random.seed(RANDOM_STATE)"
   ]
  },
  {
   "cell_type": "code",
   "execution_count": 47,
   "id": "1df53e0a-e71a-45e6-a7cc-77e7991987b2",
   "metadata": {},
   "outputs": [],
   "source": [
    "# Create comprehensive sample dataset (expanding the original sample)\n",
    "def create_extended_malaria_dataset(n_samples=337):\n",
    "    \"\"\"Create an extended malaria dataset for demonstration\"\"\"\n",
    "    np.random.seed(RANDOM_STATE)\n",
    "    \n",
    "    # Base symptoms and their probabilities for different scenarios\n",
    "    symptoms = ['fever', 'cold', 'rigor', 'fatigue', 'headace', 'bitter_tongue', \n",
    "                'vomitting', 'diarrhea', 'Convulsion', 'Anemia', 'jundice', \n",
    "                'cocacola_urine', 'hypoglycemia', 'prostraction', 'hyperpyrexia']\n",
    "    \n",
    "    data = []\n",
    "    \n",
    "    for i in range(n_samples):\n",
    "        # Generate age (3-77 range as per original data)\n",
    "        age = np.random.randint(3, 78)\n",
    "        \n",
    "        # Generate sex (0=female, 1=male)\n",
    "        sex = np.random.randint(0, 2)\n",
    "        \n",
    "        # Create realistic symptom patterns\n",
    "        # Severe malaria cases (30% of data)\n",
    "        if i < n_samples * 0.3:\n",
    "            severe_malaria = 1\n",
    "            # Higher probability of severe symptoms\n",
    "            symptoms_prob = [0.95, 0.8, 0.7, 0.9, 0.8, 0.4, 0.3, 0.4, 0.2, 0.5, 0.3, 0.2, 0.3, 0.4, 0.15]\n",
    "        else:\n",
    "            severe_malaria = 0\n",
    "            # Lower probability of severe symptoms\n",
    "            symptoms_prob = [0.8, 0.6, 0.5, 0.7, 0.6, 0.2, 0.15, 0.2, 0.05, 0.2, 0.05, 0.03, 0.1, 0.15, 0.02]\n",
    "        \n",
    "        # Generate symptoms based on probabilities\n",
    "        patient_symptoms = [1 if np.random.random() < prob else 0 for prob in symptoms_prob]\n",
    "        \n",
    "        # Create patient record\n",
    "        patient = [age, sex] + patient_symptoms + [severe_malaria]\n",
    "        data.append(patient)\n",
    "    \n",
    "    # Create DataFrame\n",
    "    columns = ['age', 'sex'] + symptoms + ['severe_malaria']\n",
    "    df = pd.DataFrame(data, columns=columns)\n",
    "    \n",
    "    return df\n"
   ]
  },
  {
   "cell_type": "code",
   "execution_count": 48,
   "id": "7d6d50f0-549c-40f3-98c2-8feabcb83f6d",
   "metadata": {},
   "outputs": [
    {
     "name": "stdout",
     "output_type": "stream",
     "text": [
      " Dataset created: 337 patients, 18 features\n"
     ]
    }
   ],
   "source": [
    "# Generate dataset\n",
    "df = create_extended_malaria_dataset(337)\n",
    "print(f\" Dataset created: {df.shape[0]} patients, {df.shape[1]} features\")"
   ]
  },
  {
   "cell_type": "code",
   "execution_count": 49,
   "id": "18f881a1-56cb-44a1-b1e0-8e8b9d9fdef3",
   "metadata": {},
   "outputs": [
    {
     "name": "stdout",
     "output_type": "stream",
     "text": [
      " Total features: 24 (excluding target)\n",
      "\n",
      "Dataset Summary:\n",
      "  Samples: 337\n",
      "  Features: 24\n",
      "  Target distribution: {0: 235, 1: 102}\n"
     ]
    }
   ],
   "source": [
    "#FEATURE ENGINEERING\n",
    "\n",
    "df_engineered = df.copy()\n",
    "\n",
    "# Age groups\n",
    "def categorize_age(age):\n",
    "    if age <= 12:\n",
    "        return 0  # Child\n",
    "    elif age <= 30:\n",
    "        return 1  # Youth\n",
    "    else:\n",
    "        return 2  # Adult\n",
    "\n",
    "df_engineered['age_group'] = df_engineered['age'].apply(categorize_age)\n",
    "\n",
    "# Symptom counts and scores\n",
    "symptom_cols = ['fever', 'cold', 'rigor', 'fatigue', 'headace', 'bitter_tongue',\n",
    "                'vomitting', 'diarrhea', 'Convulsion', 'Anemia', 'jundice',\n",
    "                'cocacola_urine', 'hypoglycemia', 'prostraction', 'hyperpyrexia']\n",
    "\n",
    "df_engineered['symptom_count'] = df_engineered[symptom_cols].sum(axis=1)\n",
    "\n",
    "# Severity score (severe symptoms)\n",
    "severe_symptoms = ['jundice', 'hyperpyrexia', 'Convulsion', 'cocacola_urine']\n",
    "df_engineered['severity_score'] = df_engineered[severe_symptoms].sum(axis=1)\n",
    "\n",
    "# GI symptoms\n",
    "gi_symptoms = ['vomitting', 'diarrhea', 'bitter_tongue']\n",
    "df_engineered['gi_symptoms'] = df_engineered[gi_symptoms].sum(axis=1)\n",
    "\n",
    "# Neurological symptoms\n",
    "neuro_symptoms = ['headace', 'Convulsion']\n",
    "df_engineered['neuro_symptoms'] = df_engineered[neuro_symptoms].sum(axis=1)\n",
    "\n",
    "# Interaction features\n",
    "df_engineered['age_symptom_interaction'] = df_engineered['age'] * df_engineered['symptom_count']\n",
    "df_engineered['fever_severity'] = df_engineered['fever'] * df_engineered['severity_score']\n",
    "\n",
    "print(f\" Total features: {df_engineered.shape[1] - 1} (excluding target)\")\n",
    "\n",
    "# Prepare features and target\n",
    "X = df_engineered.drop(['severe_malaria'], axis=1)\n",
    "y = df_engineered['severe_malaria']\n",
    "\n",
    "print(f\"\\nDataset Summary:\")\n",
    "print(f\"  Samples: {X.shape[0]}\")\n",
    "print(f\"  Features: {X.shape[1]}\")\n",
    "print(f\"  Target distribution: {dict(y.value_counts())}\")"
   ]
  },
  {
   "cell_type": "code",
   "execution_count": 50,
   "id": "7bc5670a-7fa0-43d7-ad90-423e72ef8087",
   "metadata": {},
   "outputs": [],
   "source": [
    "from imblearn.over_sampling import SMOTE"
   ]
  },
  {
   "cell_type": "code",
   "execution_count": 51,
   "id": "443876e5-fcad-4e1a-add6-4e6f6e526bd6",
   "metadata": {},
   "outputs": [
    {
     "name": "stdout",
     "output_type": "stream",
     "text": [
      "\n",
      "After SMOTE balancing:\n",
      "  Training samples: 376\n",
      "  Balanced target distribution: {0: 188, 1: 188}\n"
     ]
    }
   ],
   "source": [
    "# TRAIN-TEST SPLIT AND DATA PREPROCESSING\n",
    "# Stratified split to maintain class balance\n",
    "X_train, X_test, y_train, y_test = train_test_split(\n",
    "    X, y, test_size=0.2, random_state=RANDOM_STATE, stratify=y\n",
    ")\n",
    "# Feature scaling\n",
    "scaler = StandardScaler()\n",
    "X_train_scaled = scaler.fit_transform(X_train)\n",
    "X_test_scaled = scaler.transform(X_test)\n",
    "\n",
    "# Handle class imbalance with SMOTE\n",
    "smote = SMOTE(random_state=RANDOM_STATE)\n",
    "X_train_balanced, y_train_balanced = smote.fit_resample(X_train_scaled, y_train)\n",
    "\n",
    "print(f\"\\nAfter SMOTE balancing:\")\n",
    "print(f\"  Training samples: {X_train_balanced.shape[0]}\")\n",
    "print(f\"  Balanced target distribution: {dict(pd.Series(y_train_balanced).value_counts())}\")\n"
   ]
  },
  {
   "cell_type": "code",
   "execution_count": 52,
   "id": "b1e55616-73db-4132-884e-0b73be8bc2ec",
   "metadata": {},
   "outputs": [],
   "source": [
    "# BASELINE MODEL BUILDING\n",
    "# Initialize results storage\n",
    "results = {}\n",
    "models = {}"
   ]
  },
  {
   "cell_type": "code",
   "execution_count": 53,
   "id": "6be8c7e6-b4e0-4249-9737-fac35402b940",
   "metadata": {},
   "outputs": [
    {
     "name": "stdout",
     "output_type": "stream",
     "text": [
      "Logistic Regression trained successfully\n",
      "Accuracy:  0.8676\n",
      "Precision: 0.7500\n",
      "Recall:    0.8571\n",
      "F1-Score:  0.8000\n",
      "ROC-AUC:   0.9321\n",
      "\n",
      "Top 10 Most Important Features (Logistic Regression):\n",
      "  cold                :  1.030\n",
      "  symptom_count       :  0.948\n",
      "  fatigue             :  0.698\n",
      "  Anemia              :  0.589\n",
      "  severity_score      :  0.569\n",
      "  jundice             :  0.557\n",
      "  hyperpyrexia        :  0.433\n",
      "  fever               :  0.423\n",
      "  age_group           :  0.379\n",
      "  hypoglycemia        :  0.375\n",
      "\n",
      "5-Fold Cross-Validation Accuracy: 0.8406 (±0.1286)\n"
     ]
    }
   ],
   "source": [
    "# LOGISTIC REGRESSION MODEL\n",
    "\n",
    "# Train Logistic Regression\n",
    "lr_model = LogisticRegression(random_state=RANDOM_STATE, max_iter=1000)\n",
    "lr_model.fit(X_train_balanced, y_train_balanced)\n",
    "\n",
    "# Predictions\n",
    "y_pred_lr = lr_model.predict(X_test_scaled)\n",
    "y_pred_proba_lr = lr_model.predict_proba(X_test_scaled)[:, 1]\n",
    "\n",
    "# Store model\n",
    "models['Logistic Regression'] = lr_model\n",
    "\n",
    "print(\"Logistic Regression trained successfully\")\n",
    "\n",
    "# Calculate metrics\n",
    "lr_accuracy = accuracy_score(y_test, y_pred_lr)\n",
    "lr_precision = precision_score(y_test, y_pred_lr)\n",
    "lr_recall = recall_score(y_test, y_pred_lr)\n",
    "lr_f1 = f1_score(y_test, y_pred_lr)\n",
    "lr_auc = roc_auc_score(y_test, y_pred_proba_lr)\n",
    "\n",
    "# Store results\n",
    "results['Logistic Regression'] = {\n",
    "    'accuracy': lr_accuracy,\n",
    "    'precision': lr_precision,\n",
    "    'recall': lr_recall,\n",
    "    'f1_score': lr_f1,\n",
    "    'roc_auc': lr_auc\n",
    "}\n",
    "\n",
    "print(f\"Accuracy:  {lr_accuracy:.4f}\")\n",
    "print(f\"Precision: {lr_precision:.4f}\")\n",
    "print(f\"Recall:    {lr_recall:.4f}\")\n",
    "print(f\"F1-Score:  {lr_f1:.4f}\")\n",
    "print(f\"ROC-AUC:   {lr_auc:.4f}\")\n",
    "\n",
    "# Feature importance\n",
    "feature_importance_lr = pd.DataFrame({\n",
    "    'feature': X.columns,\n",
    "    'coefficient': lr_model.coef_[0],\n",
    "    'abs_coefficient': np.abs(lr_model.coef_[0])\n",
    "}).sort_values('abs_coefficient', ascending=False)\n",
    "\n",
    "print(f\"\\nTop 10 Most Important Features (Logistic Regression):\")\n",
    "for i, row in feature_importance_lr.head(10).iterrows():\n",
    "    print(f\"  {row['feature']:20s}: {row['coefficient']:6.3f}\")\n",
    "\n",
    "# Cross-validation\n",
    "cv_scores_lr = cross_val_score(lr_model, X_train_balanced, y_train_balanced, cv=5)\n",
    "print(f\"\\n5-Fold Cross-Validation Accuracy: {cv_scores_lr.mean():.4f} (±{cv_scores_lr.std()*2:.4f})\")"
   ]
  },
  {
   "cell_type": "code",
   "execution_count": 54,
   "id": "8564b307-3912-4035-b04e-e7a59e84d3e5",
   "metadata": {},
   "outputs": [
    {
     "name": "stdout",
     "output_type": "stream",
     "text": [
      " Decision Tree trained successfully\n",
      "Accuracy:  0.8088\n",
      "Precision: 0.7222\n",
      "Recall:    0.6190\n",
      "F1-Score:  0.6667\n",
      "ROC-AUC:   0.8916\n",
      "\n",
      "Top 10 Most Important Features (Decision Tree):\n",
      "  symptom_count       :  0.730\n",
      "  hyperpyrexia        :  0.062\n",
      "  rigor               :  0.046\n",
      "  age                 :  0.034\n",
      "  vomitting           :  0.022\n",
      "  severity_score      :  0.020\n",
      "  age_symptom_interaction:  0.017\n",
      "  neuro_symptoms      :  0.014\n",
      "  headace             :  0.013\n",
      "  hypoglycemia        :  0.013\n",
      "\n",
      "5-Fold Cross-Validation Accuracy: 0.8115 (±0.1558)\n"
     ]
    }
   ],
   "source": [
    "# DECISION TREE MODEL\n",
    "\n",
    "dt_model = DecisionTreeClassifier(\n",
    "    random_state=RANDOM_STATE,\n",
    "    max_depth=10,\n",
    "    min_samples_split=10,\n",
    "    min_samples_leaf=5\n",
    ")\n",
    "dt_model.fit(X_train_balanced, y_train_balanced)\n",
    "\n",
    "# Predictions\n",
    "y_pred_dt = dt_model.predict(X_test_scaled)\n",
    "y_pred_proba_dt = dt_model.predict_proba(X_test_scaled)[:, 1]\n",
    "\n",
    "# Store model\n",
    "models['Decision Tree'] = dt_model\n",
    "\n",
    "print(\" Decision Tree trained successfully\")\n",
    "\n",
    "# Calculate metrics\n",
    "dt_accuracy = accuracy_score(y_test, y_pred_dt)\n",
    "dt_precision = precision_score(y_test, y_pred_dt)\n",
    "dt_recall = recall_score(y_test, y_pred_dt)\n",
    "dt_f1 = f1_score(y_test, y_pred_dt)\n",
    "dt_auc = roc_auc_score(y_test, y_pred_proba_dt)\n",
    "\n",
    "# Store results\n",
    "results['Decision Tree'] = {\n",
    "    'accuracy': dt_accuracy,\n",
    "    'precision': dt_precision,\n",
    "    'recall': dt_recall,\n",
    "    'f1_score': dt_f1,\n",
    "    'roc_auc': dt_auc\n",
    "}\n",
    "\n",
    "print(f\"Accuracy:  {dt_accuracy:.4f}\")\n",
    "print(f\"Precision: {dt_precision:.4f}\")\n",
    "print(f\"Recall:    {dt_recall:.4f}\")\n",
    "print(f\"F1-Score:  {dt_f1:.4f}\")\n",
    "print(f\"ROC-AUC:   {dt_auc:.4f}\")\n",
    "\n",
    "# Feature importance\n",
    "feature_importance_dt = pd.DataFrame({\n",
    "    'feature': X.columns,\n",
    "    'importance': dt_model.feature_importances_\n",
    "}).sort_values('importance', ascending=False)\n",
    "\n",
    "print(f\"\\nTop 10 Most Important Features (Decision Tree):\")\n",
    "for i, row in feature_importance_dt.head(10).iterrows():\n",
    "    print(f\"  {row['feature']:20s}: {row['importance']:6.3f}\")\n",
    "\n",
    "# Cross-validation\n",
    "cv_scores_dt = cross_val_score(dt_model, X_train_balanced, y_train_balanced, cv=5)\n",
    "print(f\"\\n5-Fold Cross-Validation Accuracy: {cv_scores_dt.mean():.4f} (±{cv_scores_dt.std()*2:.4f})\")\n"
   ]
  },
  {
   "cell_type": "code",
   "execution_count": 55,
   "id": "494fa7b4-94c7-4f68-b61d-5c7f551cb6ad",
   "metadata": {},
   "outputs": [
    {
     "name": "stdout",
     "output_type": "stream",
     "text": [
      " Best parameters: {'max_depth': 10, 'min_samples_leaf': 2, 'min_samples_split': 5, 'n_estimators': 200}\n",
      " Best CV score: 0.9512\n",
      "\n",
      "5.2 MODEL EVALUATION\n",
      "--------------------\n",
      "Accuracy:  0.9265\n",
      "Precision: 0.8636\n",
      "Recall:    0.9048\n",
      "F1-Score:  0.8837\n",
      "ROC-AUC:   0.9382\n",
      "\n",
      "Top 10 Most Important Features (Random Forest):\n",
      "  symptom_count       :  0.276\n",
      "  age_symptom_interaction:  0.089\n",
      "  fever_severity      :  0.081\n",
      "  severity_score      :  0.080\n",
      "  Anemia              :  0.052\n",
      "  age                 :  0.048\n",
      "  jundice             :  0.045\n",
      "  hypoglycemia        :  0.042\n",
      "  cold                :  0.039\n",
      "  gi_symptoms         :  0.035\n"
     ]
    }
   ],
   "source": [
    "#  RANDOM FOREST MODEL\n",
    "\n",
    "# Hyperparameter tuning for Random Forest\n",
    "rf_param_grid = {\n",
    "    'n_estimators': [100, 200],\n",
    "    'max_depth': [10, 15, None],\n",
    "    'min_samples_split': [5, 10],\n",
    "    'min_samples_leaf': [2, 5]\n",
    "}\n",
    "\n",
    "rf_grid_search = GridSearchCV(\n",
    "    RandomForestClassifier(random_state=RANDOM_STATE),\n",
    "    rf_param_grid,\n",
    "    cv=3,\n",
    "    scoring='roc_auc',\n",
    "    n_jobs=1\n",
    ")\n",
    "\n",
    "rf_grid_search.fit(X_train_balanced, y_train_balanced)\n",
    "rf_model = rf_grid_search.best_estimator_\n",
    "\n",
    "print(f\" Best parameters: {rf_grid_search.best_params_}\")\n",
    "print(f\" Best CV score: {rf_grid_search.best_score_:.4f}\")\n",
    "\n",
    "# Predictions\n",
    "y_pred_rf = rf_model.predict(X_test_scaled)\n",
    "y_pred_proba_rf = rf_model.predict_proba(X_test_scaled)[:, 1]\n",
    "\n",
    "# Store model\n",
    "models['Random Forest'] = rf_model\n",
    "\n",
    "print(\"\\n5.2 MODEL EVALUATION\")\n",
    "print(\"-\" * 20)\n",
    "\n",
    "# Calculate metrics\n",
    "rf_accuracy = accuracy_score(y_test, y_pred_rf)\n",
    "rf_precision = precision_score(y_test, y_pred_rf)\n",
    "rf_recall = recall_score(y_test, y_pred_rf)\n",
    "rf_f1 = f1_score(y_test, y_pred_rf)\n",
    "rf_auc = roc_auc_score(y_test, y_pred_proba_rf)\n",
    "\n",
    "# Store results\n",
    "results['Random Forest'] = {\n",
    "    'accuracy': rf_accuracy,\n",
    "    'precision': rf_precision,\n",
    "    'recall': rf_recall,\n",
    "    'f1_score': rf_f1,\n",
    "    'roc_auc': rf_auc\n",
    "}\n",
    "\n",
    "print(f\"Accuracy:  {rf_accuracy:.4f}\")\n",
    "print(f\"Precision: {rf_precision:.4f}\")\n",
    "print(f\"Recall:    {rf_recall:.4f}\")\n",
    "print(f\"F1-Score:  {rf_f1:.4f}\")\n",
    "print(f\"ROC-AUC:   {rf_auc:.4f}\")\n",
    "\n",
    "# Feature importance\n",
    "feature_importance_rf = pd.DataFrame({\n",
    "    'feature': X.columns,\n",
    "    'importance': rf_model.feature_importances_\n",
    "}).sort_values('importance', ascending=False)\n",
    "\n",
    "print(f\"\\nTop 10 Most Important Features (Random Forest):\")\n",
    "for i, row in feature_importance_rf.head(10).iterrows():\n",
    "    print(f\"  {row['feature']:20s}: {row['importance']:6.3f}\")"
   ]
  },
  {
   "cell_type": "code",
   "execution_count": 56,
   "id": "2dc6e002-6dcf-4240-a763-f2593d8e8419",
   "metadata": {},
   "outputs": [],
   "source": [
    "# Machine Learning models\n",
    "from sklearn.linear_model import LogisticRegression\n",
    "from sklearn.tree import DecisionTreeClassifier\n",
    "from sklearn.ensemble import RandomForestClassifier, GradientBoostingClassifier\n",
    "from xgboost import XGBClassifier\n",
    "\n",
    "# Model selection and evaluation\n",
    "from sklearn.model_selection import train_test_split, GridSearchCV, StratifiedKFold\n",
    "from sklearn.preprocessing import StandardScaler\n",
    "from sklearn.feature_selection import SelectKBest, f_classif\n",
    "from sklearn.metrics import (\n",
    "    accuracy_score, f1_score, precision_score, recall_score,\n",
    "    roc_auc_score, roc_curve, precision_recall_curve,\n",
    "    classification_report, confusion_matrix\n",
    ")"
   ]
  },
  {
   "cell_type": "code",
   "execution_count": 57,
   "id": "3f44219e-6e28-4f46-8feb-bc7aabaed3e6",
   "metadata": {},
   "outputs": [],
   "source": [
    "# Handling class imbalance\n",
    "from imblearn.over_sampling import SMOTE\n",
    "\n",
    "# Saving/loading models\n",
    "import joblib"
   ]
  },
  {
   "cell_type": "code",
   "execution_count": 58,
   "id": "1ea29858-d1c8-4923-a88a-4e8761823e37",
   "metadata": {},
   "outputs": [],
   "source": [
    "# Change words (like \"Male\", \"Female\", \"Yes\", \"No\") into numbers the computer can understand\n",
    "df = pd.get_dummies(df, drop_first=True)"
   ]
  },
  {
   "cell_type": "code",
   "execution_count": 59,
   "id": "29992427-5a1a-49af-88f1-b26ce6e158da",
   "metadata": {},
   "outputs": [],
   "source": [
    "# 3. Separate features & target\n",
    "# Features = symptoms & patient info \n",
    "# Target = malaria result\n",
    "target_column = \"severe_malaria\"  \n",
    "X = df.drop(target_column, axis=1)   # everything except target\n",
    "y = df[target_column]                # only target column"
   ]
  },
  {
   "cell_type": "code",
   "execution_count": 60,
   "id": "97d06457-5ce4-4720-bad3-0d9853b61bc3",
   "metadata": {},
   "outputs": [],
   "source": [
    "# 4. Train/test split\n",
    "# Split data into training (to teach model) and testing (to check accuracy later)\n",
    "X_train, X_test, y_train, y_test = train_test_split(X, y, test_size=0.2, random_state=42)"
   ]
  },
  {
   "cell_type": "code",
   "execution_count": 61,
   "id": "905f94b8-98d5-4204-961a-1d011ebbd26a",
   "metadata": {},
   "outputs": [],
   "source": [
    "# Put all numbers on the same scale \n",
    "scaler = StandardScaler()\n",
    "X_train = scaler.fit_transform(X_train)\n",
    "X_test = scaler.transform(X_test)"
   ]
  },
  {
   "cell_type": "code",
   "execution_count": 62,
   "id": "e39190d0-9dba-49b7-9450-d4cdc9051ce3",
   "metadata": {},
   "outputs": [],
   "source": [
    "#  Gradient Boosting Tuning\n",
    "\n",
    "#  Trying different settings to see which Gradient Boosting model works best\n",
    "gb_param_grid = {\n",
    "    'n_estimators': [100, 200],  # number of trees\n",
    "    'learning_rate': [0.05, 0.1], # how fast the model learns\n",
    "    'max_depth': [3, 5]           # how deep each tree goes\n",
    "}"
   ]
  },
  {
   "cell_type": "code",
   "execution_count": 63,
   "id": "3d6891c0-799a-4d27-9ca2-6299072c37d8",
   "metadata": {},
   "outputs": [
    {
     "name": "stdout",
     "output_type": "stream",
     "text": [
      "\n",
      "Gradient Boosting Best Params: {'learning_rate': 0.05, 'max_depth': 3, 'n_estimators': 100}\n",
      "Gradient Boosting Best CV AUC: 0.9001487624172809\n"
     ]
    }
   ],
   "source": [
    "# GridSearchCV = tries all combinations above and picks the best\n",
    "gb_grid = GridSearchCV(\n",
    "    GradientBoostingClassifier(random_state=42),\n",
    "    gb_param_grid,\n",
    "    cv=3,              # split training data into 3 parts to test\n",
    "    scoring='roc_auc', # metric to score model\n",
    "    n_jobs=1           # 1 = avoid parallel errors on some machines\n",
    ")\n",
    "gb_grid.fit(X_train, y_train)  # Train\n",
    "best_gb = gb_grid.best_estimator_  # Keep best version\n",
    "\n",
    "print(\"\\nGradient Boosting Best Params:\", gb_grid.best_params_)\n",
    "print(\"Gradient Boosting Best CV AUC:\", gb_grid.best_score_)"
   ]
  },
  {
   "cell_type": "code",
   "execution_count": 64,
   "id": "0eced182-00cb-4fa2-b583-897f92edc05e",
   "metadata": {},
   "outputs": [],
   "source": [
    "# Next is to try out same thing we did for Gradient boosting for XBOOST. XGBOOST is an advanced boosting algorithm"
   ]
  },
  {
   "cell_type": "code",
   "execution_count": 65,
   "id": "c1b351b7-32bf-4994-b3b9-2f2d641ee8e1",
   "metadata": {},
   "outputs": [
    {
     "name": "stdout",
     "output_type": "stream",
     "text": [
      "\n",
      "XGBoost Best Params: {'colsample_bytree': 0.8, 'learning_rate': 0.05, 'max_depth': 3, 'n_estimators': 100, 'subsample': 0.8}\n",
      "XGBoost Best CV AUC: 0.9210438053030646\n"
     ]
    }
   ],
   "source": [
    "# XGBoost Tuning\n",
    "\n",
    "xgb_param_grid = {\n",
    "    'n_estimators': [100, 200],\n",
    "    'learning_rate': [0.05, 0.1],\n",
    "    'max_depth': [3, 5],\n",
    "    'subsample': [0.8, 1.0],        # use part of data for each tree\n",
    "    'colsample_bytree': [0.8, 1.0]  # use part of features for each tree\n",
    "}\n",
    "\n",
    "xgb_grid = GridSearchCV(\n",
    "    XGBClassifier(\n",
    "        random_state=42,\n",
    "        use_label_encoder=False, # avoid warning\n",
    "        eval_metric='logloss'    # metric for evaluation\n",
    "    ),\n",
    "    xgb_param_grid,\n",
    "    cv=3,\n",
    "    scoring='roc_auc',\n",
    "    n_jobs=1\n",
    ")\n",
    "xgb_grid.fit(X_train, y_train)   # 👉 Train\n",
    "best_xgb = xgb_grid.best_estimator_\n",
    "\n",
    "print(\"\\nXGBoost Best Params:\", xgb_grid.best_params_)\n",
    "print(\"XGBoost Best CV AUC:\", xgb_grid.best_score_)\n"
   ]
  },
  {
   "cell_type": "code",
   "execution_count": 66,
   "id": "1b998d0a-e2bf-4e18-8e61-91bd2e03c61c",
   "metadata": {},
   "outputs": [],
   "source": [
    "# Compare all the models we used side by side \n",
    "models = [\n",
    "    (\"Logistic Regression\", LogisticRegression(max_iter=500)),  \n",
    "    (\"Decision Tree\", DecisionTreeClassifier(random_state=42)), \n",
    "    (\"Random Forest\", RandomForestClassifier(random_state=42)), \n",
    "    (\"Gradient Boosting\", best_gb),   \n",
    "    (\"XGBoost\", best_xgb)             \n",
    "]\n",
    "model_results = []"
   ]
  },
  {
   "cell_type": "code",
   "execution_count": 67,
   "id": "23910f35-f256-4bd2-94c0-f82b65490739",
   "metadata": {},
   "outputs": [],
   "source": [
    "# Training each model on the  training dataset and test it\n",
    "for name, model in models:\n",
    "    model.fit(X_train, y_train)\n",
    "    preds = model.predict(X_test)              # predicted classes (yes/no malaria)\n",
    "    proba = model.predict_proba(X_test)[:, 1]  # predicted probabilities\n",
    "    \n",
    "    acc = accuracy_score(y_test, preds)  # how often is it correct\n",
    "    f1 = f1_score(y_test, preds)         # balance between precision & recall\n",
    "    auc = roc_auc_score(y_test, proba)   # how well it ranks positives vs negatives\n",
    "    \n",
    "    model_results.append({\n",
    "        \"Model\": name,\n",
    "        \"Accuracy\": acc,\n",
    "        \"F1 Score\": f1,\n",
    "        \"ROC-AUC\": auc\n",
    "    })"
   ]
  },
  {
   "cell_type": "code",
   "execution_count": 68,
   "id": "83af8e57-6eaf-40ec-aebf-e5a2dcd52158",
   "metadata": {},
   "outputs": [
    {
     "name": "stdout",
     "output_type": "stream",
     "text": [
      "\n",
      "Model Comparison:\n",
      "                 Model  Accuracy  F1 Score   ROC-AUC\n",
      "3    Gradient Boosting  0.794118  0.650000  0.867633\n",
      "0  Logistic Regression  0.794118  0.681818  0.863768\n",
      "4              XGBoost  0.764706  0.578947  0.857971\n",
      "2        Random Forest  0.808824  0.682927  0.851691\n",
      "1        Decision Tree  0.705882  0.523810  0.650242\n"
     ]
    }
   ],
   "source": [
    "# Sort results from best to worst by AUC Score. AUC tells you how good your model is at ranking in this case, people with severe malaria and people without\n",
    "results_df = pd.DataFrame(model_results)\n",
    "results_df = results_df.sort_values(by=\"ROC-AUC\", ascending=False)\n",
    "print(\"\\nModel Comparison:\")\n",
    "print(results_df)"
   ]
  },
  {
   "cell_type": "code",
   "execution_count": 69,
   "id": "2e9baff5-b158-4b08-a704-114b5eca2506",
   "metadata": {},
   "outputs": [
    {
     "name": "stdout",
     "output_type": "stream",
     "text": [
      "\n",
      "Best Model: Gradient Boosting\n"
     ]
    }
   ],
   "source": [
    "# Pick best model from result\n",
    "best_row = results_df.iloc[0]\n",
    "best_model_name = best_row[\"Model\"]\n",
    "best_model = dict(models)[best_model_name]\n",
    "\n",
    "print(f\"\\nBest Model: {best_model_name}\")"
   ]
  },
  {
   "cell_type": "code",
   "execution_count": 70,
   "id": "30d7e91b-ca3d-49be-a8b3-b4e27faea5d0",
   "metadata": {},
   "outputs": [
    {
     "data": {
      "text/plain": [
       "['scaler.pkl']"
      ]
     },
     "execution_count": 70,
     "metadata": {},
     "output_type": "execute_result"
    }
   ],
   "source": [
    "joblib.dump(model, \"severe_malaria_prediction_app.pkl\")\n",
    "joblib.dump(scaler, \"scaler.pkl\")\n"
   ]
  },
  {
   "cell_type": "code",
   "execution_count": 71,
   "id": "3c43a48e-acd3-4218-a7f1-008a9b7851a7",
   "metadata": {},
   "outputs": [
    {
     "name": "stdout",
     "output_type": "stream",
     "text": [
      "['age', 'sex', 'fever', 'cold', 'rigor', 'fatigue', 'headace', 'bitter_tongue', 'vomitting', 'diarrhea', 'Convulsion', 'Anemia', 'jundice', 'cocacola_urine', 'hypoglycemia', 'prostraction', 'hyperpyrexia', 'severe_malaria']\n"
     ]
    }
   ],
   "source": [
    "print(df.columns.tolist())"
   ]
  },
  {
   "cell_type": "code",
   "execution_count": 72,
   "id": "bfa96a2c-1b0d-4cbc-a1d3-68854a218eec",
   "metadata": {},
   "outputs": [
    {
     "name": "stdout",
     "output_type": "stream",
     "text": [
      "17\n"
     ]
    }
   ],
   "source": [
    "print(scaler.n_features_in_)\n"
   ]
  },
  {
   "cell_type": "code",
   "execution_count": 73,
   "id": "aa3e186e-cde1-4604-b1ab-6c9d6fa681dd",
   "metadata": {
    "scrolled": true
   },
   "outputs": [
    {
     "name": "stderr",
     "output_type": "stream",
     "text": [
      "2025-08-21 15:35:00.063 \n",
      "  \u001b[33m\u001b[1mWarning:\u001b[0m to view this Streamlit app on a browser, run it with the following\n",
      "  command:\n",
      "\n",
      "    streamlit run C:\\Users\\idowu\\st_env\\Lib\\site-packages\\ipykernel_launcher.py [ARGUMENTS]\n"
     ]
    }
   ],
   "source": [
    "import streamlit as st\n",
    "import joblib\n",
    "import numpy as np\n",
    "\n",
    "# Load model and scaler\n",
    "model = joblib.load('severe_malaria_prediction_app.pkl')\n",
    "scaler = joblib.load('scaler.pkl')\n",
    "\n",
    "st.title(\"🦟 Malaria Prediction App\")\n",
    "\n",
    "# Collect inputs from user\n",
    "age = st.number_input(\"Age\", 1, 100)\n",
    "sex = st.selectbox(\"Gender\", [\"Female\", \"Male\"])\n",
    "fever = st.selectbox(\"Fever\", [\"No\", \"Yes\"])\n",
    "cold = st.selectbox(\"Cold\", [\"No\", \"Yes\"])\n",
    "rigor = st.selectbox(\"Rigor\", [\"No\", \"Yes\"])\n",
    "fatigue = st.selectbox(\"Fatigue\", [\"No\", \"Yes\"])\n",
    "headace = st.selectbox(\"Headache\", [\"No\", \"Yes\"])\n",
    "bitter_tongue = st.selectbox(\"Bitter Tongue\", [\"No\", \"Yes\"])\n",
    "vomitting = st.selectbox(\"Vomiting\", [\"No\", \"Yes\"])\n",
    "diarrhea = st.selectbox(\"Diarrhea\", [\"No\", \"Yes\"])\n",
    "Convulsion = st.selectbox(\"Convulsion\", [\"No\", \"Yes\"])\n",
    "Anemia = st.selectbox(\"Anemia\", [\"No\", \"Yes\"])\n",
    "jundice = st.selectbox(\"Jaundice\", [\"No\", \"Yes\"])\n",
    "cocacola_urine = st.selectbox(\"Coca-Cola Urine\", [\"No\", \"Yes\"])\n",
    "hypoglycemia = st.selectbox(\"Hypoglycemia\", [\"No\", \"Yes\"])\n",
    "prostraction = st.selectbox(\"Prostration\", [\"No\", \"Yes\"])\n",
    "hyperpyrexia = st.selectbox(\"Hyperpyrexia\", [\"No\", \"Yes\"])\n",
    "\n",
    "if st.button(\"Predict\"):\n",
    "    # Convert categorical inputs to numeric\n",
    "    sex = 0 if sex == \"Female\" else 1\n",
    "    fever = 1 if fever == \"Yes\" else 0\n",
    "    cold = 1 if cold == \"Yes\" else 0\n",
    "    rigor = 1 if rigor == \"Yes\" else 0\n",
    "    fatigue = 1 if fatigue == \"Yes\" else 0\n",
    "    headace = 1 if headace == \"Yes\" else 0\n",
    "    bitter_tongue = 1 if bitter_tongue == \"Yes\" else 0\n",
    "    vomitting = 1 if vomitting == \"Yes\" else 0\n",
    "    diarrhea = 1 if diarrhea == \"Yes\" else 0\n",
    "    Convulsion = 1 if Convulsion == \"Yes\" else 0\n",
    "    Anemia = 1 if Anemia == \"Yes\" else 0\n",
    "    jundice = 1 if jundice == \"Yes\" else 0\n",
    "    cocacola_urine = 1 if cocacola_urine == \"Yes\" else 0\n",
    "    hypoglycemia = 1 if hypoglycemia == \"Yes\" else 0\n",
    "    prostraction = 1 if prostraction == \"Yes\" else 0\n",
    "    hyperpyrexia = 1 if hyperpyrexia == \"Yes\" else 0\n",
    "\n",
    "\n",
    "    # Arrange features in correct order by copying our result from print(X.columns.tolist())\n",
    "    features = np.array([[age, sex, fever, cold, rigor, fatigue, headace,\n",
    "                          bitter_tongue, vomitting, diarrhea, Convulsion, Anemia,\n",
    "                          jundice, cocacola_urine, hypoglycemia, prostraction,\n",
    "                          hyperpyrexia]])\n",
    "    \n",
    "    # Scale and predict\n",
    "    features_scaled = scaler.transform(features)\n",
    "    prediction = model.predict(features_scaled)[0]\n",
    "\n",
    "    # Display result\n",
    "    st.success(\"✅ Positive for Severe Malaria\" if prediction == 1 else \"❌ Negative for Severe Malaria\")"
   ]
  },
  {
   "cell_type": "code",
   "execution_count": null,
   "id": "f14b9f8b-f1cb-4545-a407-86e560179cf5",
   "metadata": {},
   "outputs": [],
   "source": []
  },
  {
   "cell_type": "code",
   "execution_count": null,
   "id": "8165623e-ad01-4f86-b6e4-9d684120e2d7",
   "metadata": {},
   "outputs": [],
   "source": []
  }
 ],
 "metadata": {
  "kernelspec": {
   "display_name": "Python 3 (ipykernel)",
   "language": "python",
   "name": "python3"
  },
  "language_info": {
   "codemirror_mode": {
    "name": "ipython",
    "version": 3
   },
   "file_extension": ".py",
   "mimetype": "text/x-python",
   "name": "python",
   "nbconvert_exporter": "python",
   "pygments_lexer": "ipython3",
   "version": "3.11.2"
  }
 },
 "nbformat": 4,
 "nbformat_minor": 5
}
